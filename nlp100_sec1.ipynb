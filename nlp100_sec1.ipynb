{
  "nbformat": 4,
  "nbformat_minor": 0,
  "metadata": {
    "colab": {
      "name": "nlp100_sec1",
      "provenance": [],
      "collapsed_sections": [],
      "authorship_tag": "ABX9TyOg9YD2zkBJkkxOPiksP4TP"
    },
    "kernelspec": {
      "name": "python3",
      "display_name": "Python 3"
    },
    "language_info": {
      "name": "python"
    }
  },
  "cells": [
    {
      "cell_type": "code",
      "execution_count": 3,
      "metadata": {
        "colab": {
          "base_uri": "https://localhost:8080/",
          "height": 35
        },
        "id": "iLVNSqEOuWx8",
        "outputId": "ad7ef47e-07bf-4abb-aa83-9b37b3906d07"
      },
      "outputs": [
        {
          "output_type": "execute_result",
          "data": {
            "text/plain": [
              "'desserts'"
            ],
            "application/vnd.google.colaboratory.intrinsic+json": {
              "type": "string"
            }
          },
          "metadata": {},
          "execution_count": 3
        }
      ],
      "source": [
        "st = \"stressed\"\n",
        "st[::-1]"
      ]
    },
    {
      "cell_type": "code",
      "source": [
        "st = \"パタトクカシーー\"\n",
        "st[::2]"
      ],
      "metadata": {
        "colab": {
          "base_uri": "https://localhost:8080/",
          "height": 35
        },
        "id": "Zkc7JbLSziIX",
        "outputId": "9e244e7b-0ed3-4a9c-f2d9-90a7f3a6510d"
      },
      "execution_count": 4,
      "outputs": [
        {
          "output_type": "execute_result",
          "data": {
            "text/plain": [
              "'パトカー'"
            ],
            "application/vnd.google.colaboratory.intrinsic+json": {
              "type": "string"
            }
          },
          "metadata": {},
          "execution_count": 4
        }
      ]
    },
    {
      "cell_type": "code",
      "source": [
        "st1 = \"パトカー\"\n",
        "st2 = \"タクシー\"\n",
        "\"\".join((c1+c2 for c1, c2 in zip(st1, st2)))"
      ],
      "metadata": {
        "colab": {
          "base_uri": "https://localhost:8080/",
          "height": 35
        },
        "id": "SWTtSk_nzssO",
        "outputId": "9de59aa2-a543-4fc9-cdb4-badeda40b9b6"
      },
      "execution_count": 8,
      "outputs": [
        {
          "output_type": "execute_result",
          "data": {
            "text/plain": [
              "'パタトクカシーー'"
            ],
            "application/vnd.google.colaboratory.intrinsic+json": {
              "type": "string"
            }
          },
          "metadata": {},
          "execution_count": 8
        }
      ]
    },
    {
      "cell_type": "code",
      "source": [
        "st = \"Now I need a drink, alcoholic of course, after the heavy lectures involving quantum mechanics.\"\n",
        "[len(w) for w in st.split(\" \")]"
      ],
      "metadata": {
        "colab": {
          "base_uri": "https://localhost:8080/"
        },
        "id": "P_N7D5710i7h",
        "outputId": "bc2ab52c-4446-432b-81a1-1252b2dfaed7"
      },
      "execution_count": 9,
      "outputs": [
        {
          "output_type": "execute_result",
          "data": {
            "text/plain": [
              "[3, 1, 4, 1, 6, 9, 2, 7, 5, 3, 5, 8, 9, 7, 10]"
            ]
          },
          "metadata": {},
          "execution_count": 9
        }
      ]
    },
    {
      "cell_type": "code",
      "source": [
        "def to_element_symbol(i, w) -> str:\n",
        "    if i+1 in [1, 5, 6, 7, 8, 9, 15, 16, 19]:\n",
        "        return w[0]\n",
        "\n",
        "    return w[0:2]\n",
        "\n",
        "\n",
        "st = \"Hi He Lied Because Boron Could Not Oxidize Fluorine. New Nations Might Also Sign Peace Security Clause. Arthur King Can.\"\n",
        "{\n",
        "    to_element_symbol(i, w): i\n",
        "    for i, w in enumerate(st.split(\" \"))\n",
        "}"
      ],
      "metadata": {
        "colab": {
          "base_uri": "https://localhost:8080/"
        },
        "id": "sP_Ny60H0zW8",
        "outputId": "dc22bb95-fe98-4b6d-eb90-989b5522c813"
      },
      "execution_count": 15,
      "outputs": [
        {
          "output_type": "execute_result",
          "data": {
            "text/plain": [
              "{'Al': 12,\n",
              " 'Ar': 17,\n",
              " 'B': 4,\n",
              " 'Be': 3,\n",
              " 'C': 5,\n",
              " 'Ca': 19,\n",
              " 'Cl': 16,\n",
              " 'F': 8,\n",
              " 'H': 0,\n",
              " 'He': 1,\n",
              " 'K': 18,\n",
              " 'Li': 2,\n",
              " 'Mi': 11,\n",
              " 'N': 6,\n",
              " 'Na': 10,\n",
              " 'Ne': 9,\n",
              " 'O': 7,\n",
              " 'P': 14,\n",
              " 'S': 15,\n",
              " 'Si': 13}"
            ]
          },
          "metadata": {},
          "execution_count": 15
        }
      ]
    },
    {
      "cell_type": "code",
      "source": [
        "from typing_extensions import ParamSpecKwargs\n",
        "from typing import Iterable, List\n",
        "\n",
        "\n",
        "def get_char_ngram(n: int, seq: str) -> List[str]:\n",
        "    chars = seq.replace(\" \", \"\")\n",
        "    return [chars[i:i+n] for i in range(len(chars) - (n-1))]\n",
        "\n",
        "\n",
        "def get_word_ngram(n: int, seq: str) -> List[str]:\n",
        "    words = seq.split(\" \")\n",
        "    return [\" \".join(words[i:i+n]) for i in range(len(words) - (n-1))]\n",
        "\n",
        "\n",
        "print(get_char_ngram(2, \"I am an NLPer\"))\n",
        "print(get_word_ngram(2, \"I am an NLPer\"))"
      ],
      "metadata": {
        "colab": {
          "base_uri": "https://localhost:8080/"
        },
        "id": "Oz0HYPoe2cVh",
        "outputId": "6998af87-16ee-486b-9dfa-5d280b73548a"
      },
      "execution_count": 31,
      "outputs": [
        {
          "output_type": "stream",
          "name": "stdout",
          "text": [
            "['Ia', 'am', 'ma', 'an', 'nN', 'NL', 'LP', 'Pe', 'er']\n",
            "['I am', 'am an', 'an NLPer']\n"
          ]
        }
      ]
    },
    {
      "cell_type": "code",
      "source": [
        "st1 = \"paraparaparadise\"\n",
        "st2 = \"paragraph\"\n",
        "\n",
        "x = set(get_char_ngram(2, st1))\n",
        "y = set(get_char_ngram(2, st2))\n",
        "\n",
        "print(f\"x = {x}\")\n",
        "print(f\"y = {y}\")\n",
        "print(f\"x | y = {x | y}\")\n",
        "print(f\"x & y = {x & y}\")\n",
        "print(f\"x - y = {x - y}\")\n",
        "print(\"se\" in x)\n",
        "print(\"se\" in y)"
      ],
      "metadata": {
        "colab": {
          "base_uri": "https://localhost:8080/"
        },
        "id": "PbNoaSQH5LFN",
        "outputId": "612f58a8-1498-4e24-c919-a26a6ef1d297"
      },
      "execution_count": 38,
      "outputs": [
        {
          "output_type": "stream",
          "name": "stdout",
          "text": [
            "x = {'se', 'ar', 'ap', 'di', 'pa', 'ra', 'is', 'ad'}\n",
            "y = {'gr', 'ar', 'ap', 'pa', 'ra', 'ph', 'ag'}\n",
            "x | y = {'se', 'gr', 'ar', 'ap', 'di', 'pa', 'ra', 'ph', 'is', 'ad', 'ag'}\n",
            "x & y = {'pa', 'ap', 'ar', 'ra'}\n",
            "x - y = {'se', 'di', 'is', 'ad'}\n",
            "True\n",
            "False\n"
          ]
        }
      ]
    },
    {
      "cell_type": "code",
      "source": [
        "from typing import Any\n",
        "\n",
        "\n",
        "def apply_template(x: Any, y: Any, z: Any) -> str:\n",
        "    return f\"{x}時の{y}は{z}\"\n",
        "\n",
        "\n",
        "apply_template(x=12, y=\"気温\", z=22.4)"
      ],
      "metadata": {
        "colab": {
          "base_uri": "https://localhost:8080/",
          "height": 35
        },
        "id": "N3mzDvwP6M0_",
        "outputId": "d1026af7-e525-43c5-f301-d5b72cd75686"
      },
      "execution_count": 41,
      "outputs": [
        {
          "output_type": "execute_result",
          "data": {
            "text/plain": [
              "'12時の気温は22.4'"
            ],
            "application/vnd.google.colaboratory.intrinsic+json": {
              "type": "string"
            }
          },
          "metadata": {},
          "execution_count": 41
        }
      ]
    },
    {
      "cell_type": "code",
      "source": [
        "def cipher(input: str) -> str:\n",
        "    def convert(ch: str) -> str:\n",
        "        if ch.islower():\n",
        "            return chr(219 - ord(ch))\n",
        "        return ch\n",
        "\n",
        "    return \"\".join([convert(ch) for ch in input])\n",
        "\n",
        "\n",
        "st = \"I am an NLPer\"\n",
        "print(st)\n",
        "encrypted = cipher(st)\n",
        "print(encrypted)\n",
        "decoded = cipher(encrypted)\n",
        "print(decoded)"
      ],
      "metadata": {
        "colab": {
          "base_uri": "https://localhost:8080/"
        },
        "id": "0JxnK8gd69f0",
        "outputId": "81664b73-dc36-45dc-e346-fc5c2d424bc9"
      },
      "execution_count": 44,
      "outputs": [
        {
          "output_type": "stream",
          "name": "stdout",
          "text": [
            "I am an NLPer\n",
            "I zn zm NLPvi\n",
            "I am an NLPer\n"
          ]
        }
      ]
    },
    {
      "cell_type": "code",
      "source": [
        "import random\n",
        "\n",
        "def to_typoglycemia(input: str) -> str:\n",
        "    def convert(word: str) -> str:\n",
        "        if len(word) <= 4:\n",
        "            return word\n",
        "\n",
        "        internal = word[1:-1]\n",
        "        shuffled = random.sample(internal, len(internal))\n",
        "        return word[0] + \"\".join(shuffled) + word[-1]\n",
        "\n",
        "    return \" \".join([convert(w) for w in input.split(\" \")])\n",
        "\n",
        "\n",
        "to_typoglycemia(\"I couldn’t believe that I could actually understand what I was reading : the phenomenal power of the human mind .\")"
      ],
      "metadata": {
        "colab": {
          "base_uri": "https://localhost:8080/",
          "height": 35
        },
        "id": "1K-ZFov97-7z",
        "outputId": "7f2c2377-c506-4235-f508-e5b2f6c3466e"
      },
      "execution_count": 56,
      "outputs": [
        {
          "output_type": "execute_result",
          "data": {
            "text/plain": [
              "'I c’olnudt bievele that I could alctauly uasrtnnded what I was rndeiag : the peomhnaenl pwoer of the hamun mind .'"
            ],
            "application/vnd.google.colaboratory.intrinsic+json": {
              "type": "string"
            }
          },
          "metadata": {},
          "execution_count": 56
        }
      ]
    }
  ]
}