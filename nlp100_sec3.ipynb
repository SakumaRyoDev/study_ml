{
  "nbformat": 4,
  "nbformat_minor": 0,
  "metadata": {
    "colab": {
      "name": "nlp100_sec3",
      "provenance": [],
      "authorship_tag": "ABX9TyOffF6SXIdBFdoQ8gVArJkA",
      "include_colab_link": true
    },
    "kernelspec": {
      "name": "python3",
      "display_name": "Python 3"
    },
    "language_info": {
      "name": "python"
    }
  },
  "cells": [
    {
      "cell_type": "markdown",
      "metadata": {
        "id": "view-in-github",
        "colab_type": "text"
      },
      "source": [
        "<a href=\"https://colab.research.google.com/github/SakumaRyoDev/study_ml/blob/main/nlp100_sec3.ipynb\" target=\"_parent\"><img src=\"https://colab.research.google.com/assets/colab-badge.svg\" alt=\"Open In Colab\"/></a>"
      ]
    },
    {
      "cell_type": "code",
      "execution_count": 1,
      "metadata": {
        "colab": {
          "base_uri": "https://localhost:8080/"
        },
        "id": "h02e49HWAxRJ",
        "outputId": "70aa8008-9212-447f-caa8-408a942f9c6a"
      },
      "outputs": [
        {
          "output_type": "stream",
          "name": "stdout",
          "text": [
            "{{redirect|UK}}\n",
            "{{redirect|英国|春秋時代の諸侯国|英 (春秋)}}\n",
            "{{Otheruses|ヨーロッパの国|長崎県・熊本県の郷土料理|いぎりす}}\n",
            "{{基礎情報 国\n",
            "|略名  =イギリス\n",
            "|日本語国名 = グレートブリテン及び北アイルランド連合王国\n",
            "|公式国名 = {{lang|en|United Kingdom of Great Britain and Northern Ireland}}<ref>英語以外での正式国名:<br />\n",
            "*{{lang|gd|An Rìoghachd Aonaichte na Breatainn Mhòr agus Eirinn mu Thuath}}（[[スコットランド・ゲール語]]）\n",
            "*{{lang|cy|Teyrnas Gyfunol Prydain Fawr a Gogledd Iwerddon}}（[[ウェールズ語]]）\n",
            "*{{lang|ga|Ríocht Aontaithe na Breataine Móire agus Tuaisceart na hÉireann}}（[[アイルランド語]]）\n",
            "*{{lang|kw|An Rywvaneth Unys a Vreten Veur hag Iwerdhon Glédh}}（[[コーンウォール語]]）\n",
            "*{{lang|sco|Unitit Kinrick o Great Breetain an Northren Ireland}}（[[スコットランド語]]）\n",
            "**{{lang|sco|Claught Kängrick o Docht Brätain an Norlin Airlann}}、{{lang|sco|Unitet Kängdom o Great Brittain an Norlin Airlann}}（アルスター・スコットランド語）</ref>\n",
            "|国旗画像 = Flag of the United Kingdom.svg\n",
            "|国章画像 = [[ファイル:Royal Coat of Arms of the United Kingdom.svg|85px|イギリスの国章]]\n",
            "|国章リンク =（[[イギリスの国章|国章]]）\n",
            "|標語 = {{lang|fr|[[Dieu et mon droit]]}}<br />（[[フランス語]]:[[Die\n"
          ]
        }
      ],
      "source": [
        "import gzip\n",
        "import json\n",
        "from io import BytesIO\n",
        "from urllib.request import urlopen\n",
        "\n",
        "\n",
        "jsonl_io = None\n",
        "\n",
        "with urlopen(\"https://nlp100.github.io/data/jawiki-country.json.gz\") as f:\n",
        "    jsonl_io = BytesIO(gzip.decompress(f.read()))\n",
        "\n",
        "text = None\n",
        "\n",
        "while True:\n",
        "    content = json.loads(jsonl_io.readline())\n",
        "    if content[\"title\"] == \"イギリス\":\n",
        "        text = content[\"text\"]\n",
        "        break\n",
        "\n",
        "print(text[0:1000])"
      ]
    },
    {
      "cell_type": "code",
      "source": [
        "import re\n",
        "\n",
        "\n",
        "lines = text.split(\"\\n\")\n",
        "\n",
        "category_regex = re.compile(r\"^\\[\\[Category:.+$\")\n",
        "\n",
        "for line in lines:\n",
        "    if category_regex.match(line):\n",
        "        print(line)"
      ],
      "metadata": {
        "colab": {
          "base_uri": "https://localhost:8080/"
        },
        "id": "ocCm1ppPJkj5",
        "outputId": "8784fa45-1642-4b72-f665-0004e2c8c746"
      },
      "execution_count": 2,
      "outputs": [
        {
          "output_type": "stream",
          "name": "stdout",
          "text": [
            "[[Category:イギリス|*]]\n",
            "[[Category:イギリス連邦加盟国]]\n",
            "[[Category:英連邦王国|*]]\n",
            "[[Category:G8加盟国]]\n",
            "[[Category:欧州連合加盟国|元]]\n",
            "[[Category:海洋国家]]\n",
            "[[Category:現存する君主国]]\n",
            "[[Category:島国]]\n",
            "[[Category:1801年に成立した国家・領域]]\n"
          ]
        }
      ]
    },
    {
      "cell_type": "code",
      "source": [
        "category_regex = re.compile(r\"^\\[\\[Category:([^\\]|*]+)\")\n",
        "\n",
        "for line in lines:\n",
        "    match = category_regex.match(line)\n",
        "    if match:\n",
        "        print(match.group(1))"
      ],
      "metadata": {
        "colab": {
          "base_uri": "https://localhost:8080/"
        },
        "id": "2FQw0I86L6Gw",
        "outputId": "793a4e52-05a0-45fe-bca2-0d5867d0fc75"
      },
      "execution_count": 3,
      "outputs": [
        {
          "output_type": "stream",
          "name": "stdout",
          "text": [
            "イギリス\n",
            "イギリス連邦加盟国\n",
            "英連邦王国\n",
            "G8加盟国\n",
            "欧州連合加盟国\n",
            "海洋国家\n",
            "現存する君主国\n",
            "島国\n",
            "1801年に成立した国家・領域\n"
          ]
        }
      ]
    },
    {
      "cell_type": "code",
      "source": [
        "section_regex = re.compile(r\"^(=+)([^=]+)\")\n",
        "\n",
        "for line in lines:\n",
        "    match = section_regex.match(line)\n",
        "    if match:\n",
        "        print(match.group(2), len(match.group(1))-1)"
      ],
      "metadata": {
        "colab": {
          "base_uri": "https://localhost:8080/"
        },
        "id": "MlosSxoojeRL",
        "outputId": "c370b75e-a0a3-4c29-aae7-d08c942e5a60"
      },
      "execution_count": 4,
      "outputs": [
        {
          "output_type": "stream",
          "name": "stdout",
          "text": [
            "国名 1\n",
            "歴史 1\n",
            "地理 1\n",
            "主要都市 2\n",
            "気候 2\n",
            "政治 1\n",
            "元首 2\n",
            "法 2\n",
            "内政 2\n",
            "地方行政区分 2\n",
            "外交・軍事 2\n",
            "経済 1\n",
            "鉱業 2\n",
            "農業 2\n",
            "貿易 2\n",
            "不動産 2\n",
            "エネルギー政策 2\n",
            "通貨 2\n",
            "企業 2\n",
            "通信 3\n",
            "交通 1\n",
            "道路 2\n",
            "鉄道 2\n",
            "海運 2\n",
            "航空 2\n",
            "科学技術 1\n",
            "国民 1\n",
            "言語 2\n",
            "宗教 2\n",
            "婚姻 2\n",
            "移住 2\n",
            "教育 2\n",
            "医療 2\n",
            "文化 1\n",
            "食文化 2\n",
            "文学 2\n",
            "哲学 2\n",
            "音楽 2\n",
            "ポピュラー音楽 3\n",
            "映画 2\n",
            "コメディ 2\n",
            "国花 2\n",
            "世界遺産 2\n",
            "祝祭日 2\n",
            "スポーツ 2\n",
            "サッカー 3\n",
            "クリケット 3\n",
            "競馬 3\n",
            "モータースポーツ 3\n",
            "野球 3\n",
            " カーリング  3\n",
            " 自転車競技  3\n",
            "脚注 1\n",
            "関連項目 1\n",
            "外部リンク 1\n"
          ]
        }
      ]
    },
    {
      "cell_type": "code",
      "source": [
        "file_regex = re.compile(r\"^\\[\\[ファイル:([^|]+)\")\n",
        "\n",
        "for line in lines:\n",
        "    match = file_regex.match(line)\n",
        "    if match:\n",
        "        print(match.group(1))"
      ],
      "metadata": {
        "colab": {
          "base_uri": "https://localhost:8080/"
        },
        "id": "UO1wwgqWkQrK",
        "outputId": "7d1b81de-be8a-48d3-a0c9-b972005357b8"
      },
      "execution_count": 5,
      "outputs": [
        {
          "output_type": "stream",
          "name": "stdout",
          "text": [
            "Descriptio Prime Tabulae Europae.jpg\n",
            "Lenepveu, Jeanne d'Arc au siège d'Orléans.jpg\n",
            "London.bankofengland.arp.jpg\n",
            "Battle of Waterloo 1815.PNG\n",
            "Uk topo en.jpg\n",
            "BenNevis2005.jpg\n",
            "Population density UK 2011 census.png\n",
            "2019 Greenwich Peninsula & Canary Wharf.jpg\n",
            "Leeds CBD at night.jpg\n",
            "Palace of Westminster, London - Feb 2007.jpg\n",
            "Scotland Parliament Holyrood.jpg\n",
            "Donald Trump and Theresa May (33998675310) (cropped).jpg\n",
            "Soldiers Trooping the Colour, 16th June 2007.jpg\n",
            "City of London skyline from London City Hall - Oct 2008.jpg\n",
            "Oil platform in the North SeaPros.jpg\n",
            "Eurostar at St Pancras Jan 2008.jpg\n",
            "Heathrow Terminal 5C Iwelumo-1.jpg\n",
            "UKpop.svg\n",
            "Anglospeak.svg\n",
            "Royal Aberdeen Children's Hospital.jpg\n",
            "CHANDOS3.jpg\n",
            "The Fabs.JPG\n",
            "Wembley Stadium, illuminated.jpg\n"
          ]
        }
      ]
    },
    {
      "cell_type": "code",
      "source": [
        "!pip install wikitextparser"
      ],
      "metadata": {
        "colab": {
          "base_uri": "https://localhost:8080/"
        },
        "id": "CxHnkrgJda6E",
        "outputId": "1766d577-034c-42d4-d6b1-53aac06bccbb"
      },
      "execution_count": 6,
      "outputs": [
        {
          "output_type": "stream",
          "name": "stdout",
          "text": [
            "Looking in indexes: https://pypi.org/simple, https://us-python.pkg.dev/colab-wheels/public/simple/\n",
            "Collecting wikitextparser\n",
            "  Downloading wikitextparser-0.49.4-py3-none-any.whl (65 kB)\n",
            "\u001b[K     |████████████████████████████████| 65 kB 1.2 MB/s \n",
            "\u001b[?25hRequirement already satisfied: regex in /usr/local/lib/python3.7/dist-packages (from wikitextparser) (2022.6.2)\n",
            "Requirement already satisfied: wcwidth in /usr/local/lib/python3.7/dist-packages (from wikitextparser) (0.2.5)\n",
            "Installing collected packages: wikitextparser\n",
            "Successfully installed wikitextparser-0.49.4\n"
          ]
        }
      ]
    },
    {
      "cell_type": "code",
      "source": [
        "import wikitextparser as wtp\n",
        "\n",
        "\n",
        "parsed = wtp.parse(text)\n",
        "\n",
        "tpl = None\n",
        "for t in parsed.templates:\n",
        "    if t.name.strip() == \"基礎情報 国\":\n",
        "        tpl = t\n",
        "        break\n",
        "\n",
        "basic_attrs = {\n",
        "    arg.name.strip(): arg.value.strip()\n",
        "    for arg in tpl.arguments\n",
        "}\n",
        "basic_attrs"
      ],
      "metadata": {
        "colab": {
          "base_uri": "https://localhost:8080/"
        },
        "id": "PWl0K7WZlwHL",
        "outputId": "a467b79a-a0e8-4d20-843f-463ba07b58ab"
      },
      "execution_count": 7,
      "outputs": [
        {
          "output_type": "execute_result",
          "data": {
            "text/plain": [
              "{'GDP/人': '36,727<ref name=\"imf-statistics-gdp\" />',\n",
              " 'GDP値': '2兆3162億<ref name=\"imf-statistics-gdp\" />',\n",
              " 'GDP値MER': '2兆4337億<ref name=\"imf-statistics-gdp\" />',\n",
              " 'GDP値元': '1兆5478億<ref name=\"imf-statistics-gdp\">[http://www.imf.org/external/pubs/ft/weo/2012/02/weodata/weorept.aspx?pr.x=70&pr.y=13&sy=2010&ey=2012&scsm=1&ssd=1&sort=country&ds=.&br=1&c=112&s=NGDP%2CNGDPD%2CPPPGDP%2CPPPPC&grp=0&a=IMF>Data and Statistics>World Economic Outlook Databases>By Countrise>United Kingdom]</ref>',\n",
              " 'GDP統計年': '2012',\n",
              " 'GDP統計年MER': '2012',\n",
              " 'GDP統計年元': '2012',\n",
              " 'GDP順位': '6',\n",
              " 'GDP順位MER': '6',\n",
              " 'ISO 3166-1': 'GB / GBR',\n",
              " 'ccTLD': '[[.uk]] / [[.gb]]<ref>使用は.ukに比べ圧倒的少数。</ref>',\n",
              " '人口値': '6643万5600<ref>{{Cite web|url=https://www.ons.gov.uk/peoplepopulationandcommunity/populationandmigration/populationestimates|title=Population estimates - Office for National Statistics|accessdate=2019-06-26|date=2019-06-26}}</ref>',\n",
              " '人口大きさ': '1 E7',\n",
              " '人口密度値': '271',\n",
              " '人口統計年': '2018',\n",
              " '人口順位': '22',\n",
              " '他元首等氏名1': '[[:en:Norman Fowler, Baron Fowler|ノーマン・ファウラー]]',\n",
              " '他元首等氏名2': '{{仮リンク|リンゼイ・ホイル|en|Lindsay Hoyle}}',\n",
              " '他元首等氏名3': '[[:en:Brenda Hale, Baroness Hale of Richmond|ブレンダ・ヘイル]]',\n",
              " '他元首等肩書1': '[[貴族院 (イギリス)|貴族院議長]]',\n",
              " '他元首等肩書2': '[[庶民院 (イギリス)|庶民院議長]]',\n",
              " '他元首等肩書3': '[[連合王国最高裁判所|最高裁判所長官]]',\n",
              " '位置画像': 'United Kingdom (+overseas territories) in the World (+Antarctica claims).svg',\n",
              " '元首等氏名': '[[エリザベス2世]]',\n",
              " '元首等肩書': '[[イギリスの君主|女王]]',\n",
              " '公式国名': '{{lang|en|United Kingdom of Great Britain and Northern Ireland}}<ref>英語以外での正式国名:<br />\\n*{{lang|gd|An Rìoghachd Aonaichte na Breatainn Mhòr agus Eirinn mu Thuath}}（[[スコットランド・ゲール語]]）\\n*{{lang|cy|Teyrnas Gyfunol Prydain Fawr a Gogledd Iwerddon}}（[[ウェールズ語]]）\\n*{{lang|ga|Ríocht Aontaithe na Breataine Móire agus Tuaisceart na hÉireann}}（[[アイルランド語]]）\\n*{{lang|kw|An Rywvaneth Unys a Vreten Veur hag Iwerdhon Glédh}}（[[コーンウォール語]]）\\n*{{lang|sco|Unitit Kinrick o Great Breetain an Northren Ireland}}（[[スコットランド語]]）\\n**{{lang|sco|Claught Kängrick o Docht Brätain an Norlin Airlann}}、{{lang|sco|Unitet Kängdom o Great Brittain an Norlin Airlann}}（アルスター・スコットランド語）</ref>',\n",
              " '公用語': '[[英語]]',\n",
              " '国旗画像': 'Flag of the United Kingdom.svg',\n",
              " '国歌': \"[[女王陛下万歳|{{lang|en|God Save the Queen}}]]{{en icon}}<br />''神よ女王を護り賜え''<br />{{center|[[ファイル:United States Navy Band - God Save the Queen.ogg]]}}\",\n",
              " '国章リンク': '（[[イギリスの国章|国章]]）',\n",
              " '国章画像': '[[ファイル:Royal Coat of Arms of the United Kingdom.svg|85px|イギリスの国章]]',\n",
              " '国際電話番号': '44',\n",
              " '地図画像': 'Europe-UK.svg',\n",
              " '夏時間': '+1',\n",
              " '建国形態': '建国',\n",
              " '日本語国名': 'グレートブリテン及び北アイルランド連合王国',\n",
              " '時間帯': '±0',\n",
              " '最大都市': 'ロンドン',\n",
              " '標語': '{{lang|fr|[[Dieu et mon droit]]}}<br />（[[フランス語]]:[[Dieu et mon droit|神と我が権利]]）',\n",
              " '水面積率': '1.3%',\n",
              " '注記': '<references/>',\n",
              " '略名': 'イギリス',\n",
              " '確立年月日1': '927年／843年',\n",
              " '確立年月日2': '1707年{{0}}5月{{0}}1日',\n",
              " '確立年月日3': '1801年{{0}}1月{{0}}1日',\n",
              " '確立年月日4': '1927年{{0}}4月12日',\n",
              " '確立形態1': '[[イングランド王国]]／[[スコットランド王国]]<br />（両国とも[[合同法 (1707年)|1707年合同法]]まで）',\n",
              " '確立形態2': '[[グレートブリテン王国]]成立<br />（1707年合同法）',\n",
              " '確立形態3': '[[グレートブリテン及びアイルランド連合王国]]成立<br />（[[合同法 (1800年)|1800年合同法]]）',\n",
              " '確立形態4': \"現在の国号「'''グレートブリテン及び北アイルランド連合王国'''」に変更\",\n",
              " '通貨': '[[スターリング・ポンド|UKポンド]] (£)',\n",
              " '通貨コード': 'GBP',\n",
              " '面積値': '244,820',\n",
              " '面積大きさ': '1 E11',\n",
              " '面積順位': '76',\n",
              " '首相等氏名': '[[ボリス・ジョンソン]]',\n",
              " '首相等肩書': '[[イギリスの首相|首相]]',\n",
              " '首都': '[[ロンドン]]（事実上）'}"
            ]
          },
          "metadata": {},
          "execution_count": 7
        }
      ]
    },
    {
      "cell_type": "code",
      "source": [
        "basic_attrs = {\n",
        "    key: val.replace(\"''''''\", \"\").replace(\"'''\", \"\").replace(\"''\", \"\")\n",
        "    for key, val in basic_attrs.items()\n",
        "}\n",
        "basic_attrs"
      ],
      "metadata": {
        "colab": {
          "base_uri": "https://localhost:8080/"
        },
        "id": "bSACItYNgdQj",
        "outputId": "41e88a46-dfdf-45d4-b845-73aa429067a2"
      },
      "execution_count": 8,
      "outputs": [
        {
          "output_type": "execute_result",
          "data": {
            "text/plain": [
              "{'GDP/人': '36,727<ref name=\"imf-statistics-gdp\" />',\n",
              " 'GDP値': '2兆3162億<ref name=\"imf-statistics-gdp\" />',\n",
              " 'GDP値MER': '2兆4337億<ref name=\"imf-statistics-gdp\" />',\n",
              " 'GDP値元': '1兆5478億<ref name=\"imf-statistics-gdp\">[http://www.imf.org/external/pubs/ft/weo/2012/02/weodata/weorept.aspx?pr.x=70&pr.y=13&sy=2010&ey=2012&scsm=1&ssd=1&sort=country&ds=.&br=1&c=112&s=NGDP%2CNGDPD%2CPPPGDP%2CPPPPC&grp=0&a=IMF>Data and Statistics>World Economic Outlook Databases>By Countrise>United Kingdom]</ref>',\n",
              " 'GDP統計年': '2012',\n",
              " 'GDP統計年MER': '2012',\n",
              " 'GDP統計年元': '2012',\n",
              " 'GDP順位': '6',\n",
              " 'GDP順位MER': '6',\n",
              " 'ISO 3166-1': 'GB / GBR',\n",
              " 'ccTLD': '[[.uk]] / [[.gb]]<ref>使用は.ukに比べ圧倒的少数。</ref>',\n",
              " '人口値': '6643万5600<ref>{{Cite web|url=https://www.ons.gov.uk/peoplepopulationandcommunity/populationandmigration/populationestimates|title=Population estimates - Office for National Statistics|accessdate=2019-06-26|date=2019-06-26}}</ref>',\n",
              " '人口大きさ': '1 E7',\n",
              " '人口密度値': '271',\n",
              " '人口統計年': '2018',\n",
              " '人口順位': '22',\n",
              " '他元首等氏名1': '[[:en:Norman Fowler, Baron Fowler|ノーマン・ファウラー]]',\n",
              " '他元首等氏名2': '{{仮リンク|リンゼイ・ホイル|en|Lindsay Hoyle}}',\n",
              " '他元首等氏名3': '[[:en:Brenda Hale, Baroness Hale of Richmond|ブレンダ・ヘイル]]',\n",
              " '他元首等肩書1': '[[貴族院 (イギリス)|貴族院議長]]',\n",
              " '他元首等肩書2': '[[庶民院 (イギリス)|庶民院議長]]',\n",
              " '他元首等肩書3': '[[連合王国最高裁判所|最高裁判所長官]]',\n",
              " '位置画像': 'United Kingdom (+overseas territories) in the World (+Antarctica claims).svg',\n",
              " '元首等氏名': '[[エリザベス2世]]',\n",
              " '元首等肩書': '[[イギリスの君主|女王]]',\n",
              " '公式国名': '{{lang|en|United Kingdom of Great Britain and Northern Ireland}}<ref>英語以外での正式国名:<br />\\n*{{lang|gd|An Rìoghachd Aonaichte na Breatainn Mhòr agus Eirinn mu Thuath}}（[[スコットランド・ゲール語]]）\\n*{{lang|cy|Teyrnas Gyfunol Prydain Fawr a Gogledd Iwerddon}}（[[ウェールズ語]]）\\n*{{lang|ga|Ríocht Aontaithe na Breataine Móire agus Tuaisceart na hÉireann}}（[[アイルランド語]]）\\n*{{lang|kw|An Rywvaneth Unys a Vreten Veur hag Iwerdhon Glédh}}（[[コーンウォール語]]）\\n*{{lang|sco|Unitit Kinrick o Great Breetain an Northren Ireland}}（[[スコットランド語]]）\\n**{{lang|sco|Claught Kängrick o Docht Brätain an Norlin Airlann}}、{{lang|sco|Unitet Kängdom o Great Brittain an Norlin Airlann}}（アルスター・スコットランド語）</ref>',\n",
              " '公用語': '[[英語]]',\n",
              " '国旗画像': 'Flag of the United Kingdom.svg',\n",
              " '国歌': '[[女王陛下万歳|{{lang|en|God Save the Queen}}]]{{en icon}}<br />神よ女王を護り賜え<br />{{center|[[ファイル:United States Navy Band - God Save the Queen.ogg]]}}',\n",
              " '国章リンク': '（[[イギリスの国章|国章]]）',\n",
              " '国章画像': '[[ファイル:Royal Coat of Arms of the United Kingdom.svg|85px|イギリスの国章]]',\n",
              " '国際電話番号': '44',\n",
              " '地図画像': 'Europe-UK.svg',\n",
              " '夏時間': '+1',\n",
              " '建国形態': '建国',\n",
              " '日本語国名': 'グレートブリテン及び北アイルランド連合王国',\n",
              " '時間帯': '±0',\n",
              " '最大都市': 'ロンドン',\n",
              " '標語': '{{lang|fr|[[Dieu et mon droit]]}}<br />（[[フランス語]]:[[Dieu et mon droit|神と我が権利]]）',\n",
              " '水面積率': '1.3%',\n",
              " '注記': '<references/>',\n",
              " '略名': 'イギリス',\n",
              " '確立年月日1': '927年／843年',\n",
              " '確立年月日2': '1707年{{0}}5月{{0}}1日',\n",
              " '確立年月日3': '1801年{{0}}1月{{0}}1日',\n",
              " '確立年月日4': '1927年{{0}}4月12日',\n",
              " '確立形態1': '[[イングランド王国]]／[[スコットランド王国]]<br />（両国とも[[合同法 (1707年)|1707年合同法]]まで）',\n",
              " '確立形態2': '[[グレートブリテン王国]]成立<br />（1707年合同法）',\n",
              " '確立形態3': '[[グレートブリテン及びアイルランド連合王国]]成立<br />（[[合同法 (1800年)|1800年合同法]]）',\n",
              " '確立形態4': '現在の国号「グレートブリテン及び北アイルランド連合王国」に変更',\n",
              " '通貨': '[[スターリング・ポンド|UKポンド]] (£)',\n",
              " '通貨コード': 'GBP',\n",
              " '面積値': '244,820',\n",
              " '面積大きさ': '1 E11',\n",
              " '面積順位': '76',\n",
              " '首相等氏名': '[[ボリス・ジョンソン]]',\n",
              " '首相等肩書': '[[イギリスの首相|首相]]',\n",
              " '首都': '[[ロンドン]]（事実上）'}"
            ]
          },
          "metadata": {},
          "execution_count": 8
        }
      ]
    },
    {
      "cell_type": "code",
      "source": [
        "internal_regex = re.compile(r\"\\[\\[(.+?)\\]\\]\")\n",
        "\n",
        "def remove_internal_link(s: str) -> str:\n",
        "    for match in internal_regex.finditer(s):\n",
        "        outer = match.group(0)\n",
        "        internal = match.group(1)\n",
        "        if internal.startswith(\"ファイル:\"):\n",
        "            return s\n",
        "\n",
        "        if \"|\" in internal:\n",
        "            sub_match = re.compile(r\"[^|]+\\|(.+)\").match(internal)\n",
        "            s = s.replace(outer, sub_match.group(1).strip())\n",
        "\n",
        "        s = s.replace(outer, internal.strip())\n",
        "\n",
        "    return s\n",
        "\n",
        "\n",
        "basic_attrs = {\n",
        "    key: remove_internal_link(val)\n",
        "    for key, val in basic_attrs.items()\n",
        "}\n",
        "basic_attrs"
      ],
      "metadata": {
        "colab": {
          "base_uri": "https://localhost:8080/"
        },
        "id": "7c1Qjgqshos7",
        "outputId": "abdd046f-fe45-4ab7-c319-07bc27808695"
      },
      "execution_count": 9,
      "outputs": [
        {
          "output_type": "execute_result",
          "data": {
            "text/plain": [
              "{'GDP/人': '36,727<ref name=\"imf-statistics-gdp\" />',\n",
              " 'GDP値': '2兆3162億<ref name=\"imf-statistics-gdp\" />',\n",
              " 'GDP値MER': '2兆4337億<ref name=\"imf-statistics-gdp\" />',\n",
              " 'GDP値元': '1兆5478億<ref name=\"imf-statistics-gdp\">[http://www.imf.org/external/pubs/ft/weo/2012/02/weodata/weorept.aspx?pr.x=70&pr.y=13&sy=2010&ey=2012&scsm=1&ssd=1&sort=country&ds=.&br=1&c=112&s=NGDP%2CNGDPD%2CPPPGDP%2CPPPPC&grp=0&a=IMF>Data and Statistics>World Economic Outlook Databases>By Countrise>United Kingdom]</ref>',\n",
              " 'GDP統計年': '2012',\n",
              " 'GDP統計年MER': '2012',\n",
              " 'GDP統計年元': '2012',\n",
              " 'GDP順位': '6',\n",
              " 'GDP順位MER': '6',\n",
              " 'ISO 3166-1': 'GB / GBR',\n",
              " 'ccTLD': '.uk / .gb<ref>使用は.ukに比べ圧倒的少数。</ref>',\n",
              " '人口値': '6643万5600<ref>{{Cite web|url=https://www.ons.gov.uk/peoplepopulationandcommunity/populationandmigration/populationestimates|title=Population estimates - Office for National Statistics|accessdate=2019-06-26|date=2019-06-26}}</ref>',\n",
              " '人口大きさ': '1 E7',\n",
              " '人口密度値': '271',\n",
              " '人口統計年': '2018',\n",
              " '人口順位': '22',\n",
              " '他元首等氏名1': 'ノーマン・ファウラー',\n",
              " '他元首等氏名2': '{{仮リンク|リンゼイ・ホイル|en|Lindsay Hoyle}}',\n",
              " '他元首等氏名3': 'ブレンダ・ヘイル',\n",
              " '他元首等肩書1': '貴族院議長',\n",
              " '他元首等肩書2': '庶民院議長',\n",
              " '他元首等肩書3': '最高裁判所長官',\n",
              " '位置画像': 'United Kingdom (+overseas territories) in the World (+Antarctica claims).svg',\n",
              " '元首等氏名': 'エリザベス2世',\n",
              " '元首等肩書': '女王',\n",
              " '公式国名': '{{lang|en|United Kingdom of Great Britain and Northern Ireland}}<ref>英語以外での正式国名:<br />\\n*{{lang|gd|An Rìoghachd Aonaichte na Breatainn Mhòr agus Eirinn mu Thuath}}（スコットランド・ゲール語）\\n*{{lang|cy|Teyrnas Gyfunol Prydain Fawr a Gogledd Iwerddon}}（ウェールズ語）\\n*{{lang|ga|Ríocht Aontaithe na Breataine Móire agus Tuaisceart na hÉireann}}（アイルランド語）\\n*{{lang|kw|An Rywvaneth Unys a Vreten Veur hag Iwerdhon Glédh}}（コーンウォール語）\\n*{{lang|sco|Unitit Kinrick o Great Breetain an Northren Ireland}}（スコットランド語）\\n**{{lang|sco|Claught Kängrick o Docht Brätain an Norlin Airlann}}、{{lang|sco|Unitet Kängdom o Great Brittain an Norlin Airlann}}（アルスター・スコットランド語）</ref>',\n",
              " '公用語': '英語',\n",
              " '国旗画像': 'Flag of the United Kingdom.svg',\n",
              " '国歌': '{{lang|en|God Save the Queen}}{{en icon}}<br />神よ女王を護り賜え<br />{{center|[[ファイル:United States Navy Band - God Save the Queen.ogg]]}}',\n",
              " '国章リンク': '（国章）',\n",
              " '国章画像': '[[ファイル:Royal Coat of Arms of the United Kingdom.svg|85px|イギリスの国章]]',\n",
              " '国際電話番号': '44',\n",
              " '地図画像': 'Europe-UK.svg',\n",
              " '夏時間': '+1',\n",
              " '建国形態': '建国',\n",
              " '日本語国名': 'グレートブリテン及び北アイルランド連合王国',\n",
              " '時間帯': '±0',\n",
              " '最大都市': 'ロンドン',\n",
              " '標語': '{{lang|fr|Dieu et mon droit}}<br />（フランス語:神と我が権利）',\n",
              " '水面積率': '1.3%',\n",
              " '注記': '<references/>',\n",
              " '略名': 'イギリス',\n",
              " '確立年月日1': '927年／843年',\n",
              " '確立年月日2': '1707年{{0}}5月{{0}}1日',\n",
              " '確立年月日3': '1801年{{0}}1月{{0}}1日',\n",
              " '確立年月日4': '1927年{{0}}4月12日',\n",
              " '確立形態1': 'イングランド王国／スコットランド王国<br />（両国とも1707年合同法まで）',\n",
              " '確立形態2': 'グレートブリテン王国成立<br />（1707年合同法）',\n",
              " '確立形態3': 'グレートブリテン及びアイルランド連合王国成立<br />（1800年合同法）',\n",
              " '確立形態4': '現在の国号「グレートブリテン及び北アイルランド連合王国」に変更',\n",
              " '通貨': 'UKポンド (£)',\n",
              " '通貨コード': 'GBP',\n",
              " '面積値': '244,820',\n",
              " '面積大きさ': '1 E11',\n",
              " '面積順位': '76',\n",
              " '首相等氏名': 'ボリス・ジョンソン',\n",
              " '首相等肩書': '首相',\n",
              " '首都': 'ロンドン（事実上）'}"
            ]
          },
          "metadata": {},
          "execution_count": 9
        }
      ]
    },
    {
      "cell_type": "code",
      "source": [
        "def remove_markups(s: str) -> str:\n",
        "    for tpl in wtp.parse(s).templates:\n",
        "        if len(tpl.arguments) > 0:\n",
        "            s = s.replace(tpl.string, tpl.arguments[-1].value)\n",
        "        else:\n",
        "            s = s.replace(tpl.string, \"\")\n",
        "\n",
        "    for tag in wtp.parse(s).tags():\n",
        "        s = s.replace(tag.string, \"\")\n",
        "\n",
        "    if \"ファイル:\" in s:\n",
        "        for match in re.compile(r\"\\[\\[ファイル:(.+?)\\]\\]\").finditer(s):\n",
        "            s = s.replace(match.group(0), match.group(1).split(\"|\")[0])\n",
        "    \n",
        "    return s\n",
        "\n",
        "\n",
        "basic_attrs = {\n",
        "    key: remove_markups(val)\n",
        "    for key, val in basic_attrs.items()\n",
        "}\n",
        "basic_attrs"
      ],
      "metadata": {
        "colab": {
          "base_uri": "https://localhost:8080/"
        },
        "id": "rlPYw9pcm9KY",
        "outputId": "d8e07aac-10b4-4b5e-ab0f-a2bee6ebb89f"
      },
      "execution_count": 10,
      "outputs": [
        {
          "output_type": "execute_result",
          "data": {
            "text/plain": [
              "{'GDP/人': '36,727',\n",
              " 'GDP値': '2兆3162億',\n",
              " 'GDP値MER': '2兆4337億',\n",
              " 'GDP値元': '1兆5478億',\n",
              " 'GDP統計年': '2012',\n",
              " 'GDP統計年MER': '2012',\n",
              " 'GDP統計年元': '2012',\n",
              " 'GDP順位': '6',\n",
              " 'GDP順位MER': '6',\n",
              " 'ISO 3166-1': 'GB / GBR',\n",
              " 'ccTLD': '.uk / .gb',\n",
              " '人口値': '6643万5600',\n",
              " '人口大きさ': '1 E7',\n",
              " '人口密度値': '271',\n",
              " '人口統計年': '2018',\n",
              " '人口順位': '22',\n",
              " '他元首等氏名1': 'ノーマン・ファウラー',\n",
              " '他元首等氏名2': 'Lindsay Hoyle',\n",
              " '他元首等氏名3': 'ブレンダ・ヘイル',\n",
              " '他元首等肩書1': '貴族院議長',\n",
              " '他元首等肩書2': '庶民院議長',\n",
              " '他元首等肩書3': '最高裁判所長官',\n",
              " '位置画像': 'United Kingdom (+overseas territories) in the World (+Antarctica claims).svg',\n",
              " '元首等氏名': 'エリザベス2世',\n",
              " '元首等肩書': '女王',\n",
              " '公式国名': 'United Kingdom of Great Britain and Northern Ireland',\n",
              " '公用語': '英語',\n",
              " '国旗画像': 'Flag of the United Kingdom.svg',\n",
              " '国歌': 'God Save the Queen神よ女王を護り賜えUnited States Navy Band - God Save the Queen.ogg',\n",
              " '国章リンク': '（国章）',\n",
              " '国章画像': 'Royal Coat of Arms of the United Kingdom.svg',\n",
              " '国際電話番号': '44',\n",
              " '地図画像': 'Europe-UK.svg',\n",
              " '夏時間': '+1',\n",
              " '建国形態': '建国',\n",
              " '日本語国名': 'グレートブリテン及び北アイルランド連合王国',\n",
              " '時間帯': '±0',\n",
              " '最大都市': 'ロンドン',\n",
              " '標語': 'Dieu et mon droit（フランス語:神と我が権利）',\n",
              " '水面積率': '1.3%',\n",
              " '注記': '',\n",
              " '略名': 'イギリス',\n",
              " '確立年月日1': '927年／843年',\n",
              " '確立年月日2': '1707年5月1日',\n",
              " '確立年月日3': '1801年1月1日',\n",
              " '確立年月日4': '1927年4月12日',\n",
              " '確立形態1': 'イングランド王国／スコットランド王国（両国とも1707年合同法まで）',\n",
              " '確立形態2': 'グレートブリテン王国成立（1707年合同法）',\n",
              " '確立形態3': 'グレートブリテン及びアイルランド連合王国成立（1800年合同法）',\n",
              " '確立形態4': '現在の国号「グレートブリテン及び北アイルランド連合王国」に変更',\n",
              " '通貨': 'UKポンド (£)',\n",
              " '通貨コード': 'GBP',\n",
              " '面積値': '244,820',\n",
              " '面積大きさ': '1 E11',\n",
              " '面積順位': '76',\n",
              " '首相等氏名': 'ボリス・ジョンソン',\n",
              " '首相等肩書': '首相',\n",
              " '首都': 'ロンドン（事実上）'}"
            ]
          },
          "metadata": {},
          "execution_count": 10
        }
      ]
    },
    {
      "cell_type": "code",
      "source": [
        "import requests\n",
        "\n",
        "url= \"https://en.wikipedia.org/w/api.php\"\n",
        "\n",
        "params = {\n",
        "    \"action\": \"query\",\n",
        "    \"format\": \"json\",\n",
        "    \"prop\": \"imageinfo\",\n",
        "    \"titles\": f\"File:{basic_attrs['国旗画像']}\",\n",
        "    \"iiprop\": \"url\",\n",
        "}\n",
        "\n",
        "res = requests.Session().get(url=url, params=params)\n",
        "pages = res.json()[\"query\"][\"pages\"]\n",
        "\n",
        "page = list(pages.values())[0]\n",
        "page[\"imageinfo\"][0][\"url\"]"
      ],
      "metadata": {
        "colab": {
          "base_uri": "https://localhost:8080/",
          "height": 35
        },
        "id": "VL779S07wLTm",
        "outputId": "ca2fcb16-4461-4070-bdae-1ac260333110"
      },
      "execution_count": 11,
      "outputs": [
        {
          "output_type": "execute_result",
          "data": {
            "text/plain": [
              "'https://upload.wikimedia.org/wikipedia/en/a/ae/Flag_of_the_United_Kingdom.svg'"
            ],
            "application/vnd.google.colaboratory.intrinsic+json": {
              "type": "string"
            }
          },
          "metadata": {},
          "execution_count": 11
        }
      ]
    }
  ]
}